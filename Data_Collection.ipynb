{
 "cells": [
  {
   "cell_type": "markdown",
   "metadata": {
    "colab_type": "text",
    "id": "view-in-github"
   },
   "source": [
    "<a href=\"https://colab.research.google.com/github/bhardwajshivam/Optimizing-Order-Execution-Strategy-for-HFT/blob/main/Data_Collection.ipynb\" target=\"_parent\"><img src=\"https://colab.research.google.com/assets/colab-badge.svg\" alt=\"Open In Colab\"/></a>"
   ]
  },
  {
   "cell_type": "code",
   "execution_count": 1,
   "metadata": {
    "colab": {
     "base_uri": "https://localhost:8080/"
    },
    "id": "a22kjW2K8-w4",
    "outputId": "6f0b42b1-a05a-4577-8a08-b7a5494fc213"
   },
   "outputs": [
    {
     "name": "stdout",
     "output_type": "stream",
     "text": [
      "Requirement already satisfied: yfinance in /Users/shivambhardwaj/opt/miniconda3/lib/python3.9/site-packages (0.2.20)\n",
      "Requirement already satisfied: pandas>=1.3.0 in /Users/shivambhardwaj/opt/miniconda3/lib/python3.9/site-packages (from yfinance) (2.0.2)\n",
      "Requirement already satisfied: requests>=2.26 in /Users/shivambhardwaj/opt/miniconda3/lib/python3.9/site-packages (from yfinance) (2.31.0)\n",
      "Requirement already satisfied: pytz>=2022.5 in /Users/shivambhardwaj/opt/miniconda3/lib/python3.9/site-packages (from yfinance) (2023.3)\n",
      "Requirement already satisfied: multitasking>=0.0.7 in /Users/shivambhardwaj/opt/miniconda3/lib/python3.9/site-packages (from yfinance) (0.0.11)\n",
      "Requirement already satisfied: numpy>=1.16.5 in /Users/shivambhardwaj/opt/miniconda3/lib/python3.9/site-packages (from yfinance) (1.25.1)\n",
      "Requirement already satisfied: lxml>=4.9.1 in /Users/shivambhardwaj/opt/miniconda3/lib/python3.9/site-packages (from yfinance) (4.9.2)\n",
      "Requirement already satisfied: cryptography>=3.3.2 in /Users/shivambhardwaj/opt/miniconda3/lib/python3.9/site-packages (from yfinance) (41.0.1)\n",
      "Requirement already satisfied: beautifulsoup4>=4.11.1 in /Users/shivambhardwaj/opt/miniconda3/lib/python3.9/site-packages (from yfinance) (4.12.2)\n",
      "Requirement already satisfied: html5lib>=1.1 in /Users/shivambhardwaj/opt/miniconda3/lib/python3.9/site-packages (from yfinance) (1.1)\n",
      "Requirement already satisfied: appdirs>=1.4.4 in /Users/shivambhardwaj/opt/miniconda3/lib/python3.9/site-packages (from yfinance) (1.4.4)\n",
      "Requirement already satisfied: frozendict>=2.3.4 in /Users/shivambhardwaj/opt/miniconda3/lib/python3.9/site-packages (from yfinance) (2.3.8)\n",
      "Requirement already satisfied: soupsieve>1.2 in /Users/shivambhardwaj/opt/miniconda3/lib/python3.9/site-packages (from beautifulsoup4>=4.11.1->yfinance) (2.2.1)\n",
      "Requirement already satisfied: cffi>=1.12 in /Users/shivambhardwaj/opt/miniconda3/lib/python3.9/site-packages (from cryptography>=3.3.2->yfinance) (1.15.1)\n",
      "Requirement already satisfied: pycparser in /Users/shivambhardwaj/opt/miniconda3/lib/python3.9/site-packages (from cffi>=1.12->cryptography>=3.3.2->yfinance) (2.20)\n",
      "Requirement already satisfied: webencodings in /Users/shivambhardwaj/opt/miniconda3/lib/python3.9/site-packages (from html5lib>=1.1->yfinance) (0.5.1)\n",
      "Requirement already satisfied: six>=1.9 in /Users/shivambhardwaj/opt/miniconda3/lib/python3.9/site-packages (from html5lib>=1.1->yfinance) (1.15.0)\n",
      "Requirement already satisfied: pytz>=2022.5 in /Users/shivambhardwaj/opt/miniconda3/lib/python3.9/site-packages (from yfinance) (2023.3)\n",
      "Requirement already satisfied: python-dateutil>=2.8.2 in /Users/shivambhardwaj/opt/miniconda3/lib/python3.9/site-packages (from pandas>=1.3.0->yfinance) (2.8.2)\n",
      "Requirement already satisfied: numpy>=1.16.5 in /Users/shivambhardwaj/opt/miniconda3/lib/python3.9/site-packages (from yfinance) (1.25.1)\n",
      "Requirement already satisfied: tzdata>=2022.1 in /Users/shivambhardwaj/opt/miniconda3/lib/python3.9/site-packages (from pandas>=1.3.0->yfinance) (2023.3)\n",
      "Requirement already satisfied: six>=1.9 in /Users/shivambhardwaj/opt/miniconda3/lib/python3.9/site-packages (from html5lib>=1.1->yfinance) (1.15.0)\n",
      "Requirement already satisfied: certifi>=2017.4.17 in /Users/shivambhardwaj/opt/miniconda3/lib/python3.9/site-packages (from requests>=2.26->yfinance) (2023.5.7)\n",
      "Requirement already satisfied: charset-normalizer<4,>=2 in /Users/shivambhardwaj/opt/miniconda3/lib/python3.9/site-packages (from requests>=2.26->yfinance) (3.1.0)\n",
      "Requirement already satisfied: idna<4,>=2.5 in /Users/shivambhardwaj/opt/miniconda3/lib/python3.9/site-packages (from requests>=2.26->yfinance) (2.10)\n",
      "Requirement already satisfied: urllib3<3,>=1.21.1 in /Users/shivambhardwaj/opt/miniconda3/lib/python3.9/site-packages (from requests>=2.26->yfinance) (1.25.11)\n"
     ]
    }
   ],
   "source": [
    "!pip install yfinance"
   ]
  },
  {
   "cell_type": "code",
   "execution_count": 2,
   "metadata": {
    "colab": {
     "base_uri": "https://localhost:8080/"
    },
    "id": "5m4Tw5zh8_cU",
    "outputId": "6e9e9472-d8b2-49af-c41e-0cae6d57e9be"
   },
   "outputs": [
    {
     "name": "stdout",
     "output_type": "stream",
     "text": [
      "[*********************100%***********************]  1 of 1 completed\n"
     ]
    }
   ],
   "source": [
    "import yfinance as yf\n",
    "\n",
    "def collect_stock_data(symbol, start_date, end_date):\n",
    "    \"\"\"\n",
    "    Collects historical stock price data for a given symbol and date range.\n",
    "\n",
    "    Parameters:\n",
    "        symbol (str): The stock symbol (e.g., AAPL for Apple Inc.).\n",
    "        start_date (str): The start date in the format 'YYYY-MM-DD'.\n",
    "        end_date (str): The end date in the format 'YYYY-MM-DD'.\n",
    "\n",
    "    Returns:\n",
    "        pandas.DataFrame: DataFrame containing historical stock price data.\n",
    "    \"\"\"\n",
    "    try:\n",
    "        # Fetch historical data from Yahoo Finance API\n",
    "        stock_data = yf.download(symbol, start=start_date, end=end_date)\n",
    "        return stock_data\n",
    "    except Exception as e:\n",
    "        print(f\"Error: Unable to fetch data for {symbol}. Error Message: {str(e)}\")\n",
    "        return None\n",
    "\n",
    "# Example usage:\n",
    "symbol = \"AAPL\"\n",
    "start_date = \"2013-08-01\"\n",
    "end_date = \"2023-08-01\"\n",
    "\n",
    "stock_data = collect_stock_data(symbol, start_date, end_date)"
   ]
  },
  {
   "cell_type": "code",
   "execution_count": 3,
   "metadata": {
    "colab": {
     "base_uri": "https://localhost:8080/",
     "height": 235
    },
    "id": "YzlqvHz59OPM",
    "outputId": "541db90f-a1ef-43c5-e917-04feb151f120"
   },
   "outputs": [
    {
     "data": {
      "text/html": [
       "<div>\n",
       "<style scoped>\n",
       "    .dataframe tbody tr th:only-of-type {\n",
       "        vertical-align: middle;\n",
       "    }\n",
       "\n",
       "    .dataframe tbody tr th {\n",
       "        vertical-align: top;\n",
       "    }\n",
       "\n",
       "    .dataframe thead th {\n",
       "        text-align: right;\n",
       "    }\n",
       "</style>\n",
       "<table border=\"1\" class=\"dataframe\">\n",
       "  <thead>\n",
       "    <tr style=\"text-align: right;\">\n",
       "      <th></th>\n",
       "      <th>Open</th>\n",
       "      <th>High</th>\n",
       "      <th>Low</th>\n",
       "      <th>Close</th>\n",
       "      <th>Adj Close</th>\n",
       "      <th>Volume</th>\n",
       "    </tr>\n",
       "    <tr>\n",
       "      <th>Date</th>\n",
       "      <th></th>\n",
       "      <th></th>\n",
       "      <th></th>\n",
       "      <th></th>\n",
       "      <th></th>\n",
       "      <th></th>\n",
       "    </tr>\n",
       "  </thead>\n",
       "  <tbody>\n",
       "    <tr>\n",
       "      <th>2013-08-01</th>\n",
       "      <td>16.276787</td>\n",
       "      <td>16.314285</td>\n",
       "      <td>16.187857</td>\n",
       "      <td>16.309999</td>\n",
       "      <td>14.141199</td>\n",
       "      <td>206250800</td>\n",
       "    </tr>\n",
       "    <tr>\n",
       "      <th>2013-08-02</th>\n",
       "      <td>16.357500</td>\n",
       "      <td>16.530357</td>\n",
       "      <td>16.309286</td>\n",
       "      <td>16.519285</td>\n",
       "      <td>14.322651</td>\n",
       "      <td>274783600</td>\n",
       "    </tr>\n",
       "    <tr>\n",
       "      <th>2013-08-05</th>\n",
       "      <td>16.596071</td>\n",
       "      <td>16.809643</td>\n",
       "      <td>16.505358</td>\n",
       "      <td>16.766071</td>\n",
       "      <td>14.536623</td>\n",
       "      <td>318855600</td>\n",
       "    </tr>\n",
       "    <tr>\n",
       "      <th>2013-08-06</th>\n",
       "      <td>16.715000</td>\n",
       "      <td>16.853214</td>\n",
       "      <td>16.506071</td>\n",
       "      <td>16.616072</td>\n",
       "      <td>14.406571</td>\n",
       "      <td>334857600</td>\n",
       "    </tr>\n",
       "    <tr>\n",
       "      <th>2013-08-07</th>\n",
       "      <td>16.564285</td>\n",
       "      <td>16.678572</td>\n",
       "      <td>16.491785</td>\n",
       "      <td>16.606428</td>\n",
       "      <td>14.398209</td>\n",
       "      <td>298858000</td>\n",
       "    </tr>\n",
       "  </tbody>\n",
       "</table>\n",
       "</div>"
      ],
      "text/plain": [
       "                 Open       High        Low      Close  Adj Close     Volume\n",
       "Date                                                                        \n",
       "2013-08-01  16.276787  16.314285  16.187857  16.309999  14.141199  206250800\n",
       "2013-08-02  16.357500  16.530357  16.309286  16.519285  14.322651  274783600\n",
       "2013-08-05  16.596071  16.809643  16.505358  16.766071  14.536623  318855600\n",
       "2013-08-06  16.715000  16.853214  16.506071  16.616072  14.406571  334857600\n",
       "2013-08-07  16.564285  16.678572  16.491785  16.606428  14.398209  298858000"
      ]
     },
     "execution_count": 3,
     "metadata": {},
     "output_type": "execute_result"
    }
   ],
   "source": [
    "stock_data.head()"
   ]
  },
  {
   "cell_type": "code",
   "execution_count": 4,
   "metadata": {
    "id": "Xv8ik-v09RgF"
   },
   "outputs": [
    {
     "data": {
      "text/html": [
       "<div>\n",
       "<style scoped>\n",
       "    .dataframe tbody tr th:only-of-type {\n",
       "        vertical-align: middle;\n",
       "    }\n",
       "\n",
       "    .dataframe tbody tr th {\n",
       "        vertical-align: top;\n",
       "    }\n",
       "\n",
       "    .dataframe thead th {\n",
       "        text-align: right;\n",
       "    }\n",
       "</style>\n",
       "<table border=\"1\" class=\"dataframe\">\n",
       "  <thead>\n",
       "    <tr style=\"text-align: right;\">\n",
       "      <th></th>\n",
       "      <th>Open</th>\n",
       "      <th>Close</th>\n",
       "    </tr>\n",
       "    <tr>\n",
       "      <th>Date</th>\n",
       "      <th></th>\n",
       "      <th></th>\n",
       "    </tr>\n",
       "  </thead>\n",
       "  <tbody>\n",
       "    <tr>\n",
       "      <th>2013-08-01</th>\n",
       "      <td>16.276787</td>\n",
       "      <td>16.309999</td>\n",
       "    </tr>\n",
       "    <tr>\n",
       "      <th>2013-08-02</th>\n",
       "      <td>16.357500</td>\n",
       "      <td>16.519285</td>\n",
       "    </tr>\n",
       "    <tr>\n",
       "      <th>2013-08-05</th>\n",
       "      <td>16.596071</td>\n",
       "      <td>16.766071</td>\n",
       "    </tr>\n",
       "    <tr>\n",
       "      <th>2013-08-06</th>\n",
       "      <td>16.715000</td>\n",
       "      <td>16.616072</td>\n",
       "    </tr>\n",
       "    <tr>\n",
       "      <th>2013-08-07</th>\n",
       "      <td>16.564285</td>\n",
       "      <td>16.606428</td>\n",
       "    </tr>\n",
       "    <tr>\n",
       "      <th>...</th>\n",
       "      <td>...</td>\n",
       "      <td>...</td>\n",
       "    </tr>\n",
       "    <tr>\n",
       "      <th>2023-07-25</th>\n",
       "      <td>193.330002</td>\n",
       "      <td>193.619995</td>\n",
       "    </tr>\n",
       "    <tr>\n",
       "      <th>2023-07-26</th>\n",
       "      <td>193.669998</td>\n",
       "      <td>194.500000</td>\n",
       "    </tr>\n",
       "    <tr>\n",
       "      <th>2023-07-27</th>\n",
       "      <td>196.020004</td>\n",
       "      <td>193.220001</td>\n",
       "    </tr>\n",
       "    <tr>\n",
       "      <th>2023-07-28</th>\n",
       "      <td>194.669998</td>\n",
       "      <td>195.830002</td>\n",
       "    </tr>\n",
       "    <tr>\n",
       "      <th>2023-07-31</th>\n",
       "      <td>196.059998</td>\n",
       "      <td>196.449997</td>\n",
       "    </tr>\n",
       "  </tbody>\n",
       "</table>\n",
       "<p>2516 rows × 2 columns</p>\n",
       "</div>"
      ],
      "text/plain": [
       "                  Open       Close\n",
       "Date                              \n",
       "2013-08-01   16.276787   16.309999\n",
       "2013-08-02   16.357500   16.519285\n",
       "2013-08-05   16.596071   16.766071\n",
       "2013-08-06   16.715000   16.616072\n",
       "2013-08-07   16.564285   16.606428\n",
       "...                ...         ...\n",
       "2023-07-25  193.330002  193.619995\n",
       "2023-07-26  193.669998  194.500000\n",
       "2023-07-27  196.020004  193.220001\n",
       "2023-07-28  194.669998  195.830002\n",
       "2023-07-31  196.059998  196.449997\n",
       "\n",
       "[2516 rows x 2 columns]"
      ]
     },
     "execution_count": 4,
     "metadata": {},
     "output_type": "execute_result"
    }
   ],
   "source": [
    "data = stock_data[['Open','Close']]\n",
    "data"
   ]
  },
  {
   "cell_type": "code",
   "execution_count": 5,
   "metadata": {},
   "outputs": [],
   "source": [
    "import matplotlib.pyplot as plt"
   ]
  },
  {
   "cell_type": "code",
   "execution_count": 6,
   "metadata": {},
   "outputs": [
    {
     "data": {
      "image/png": "[encoded data removed]",
      "text/plain": [
       "<Figure size 576x432 with 1 Axes>"
      ]
     },
     "metadata": {
      "needs_background": "light"
     },
     "output_type": "display_data"
    }
   ],
   "source": [
    "plt.figure(figsize=(8, 6))\n",
    "plt.plot(data['Open'])\n",
    "plt.plot(data['Close'])\n",
    "plt.show()"
   ]
  },
  {
   "cell_type": "code",
   "execution_count": null,
   "metadata": {},
   "outputs": [],
   "source": []
  }
 ],
 "metadata": {
  "colab": {
   "authorship_tag": "ABX9TyP5mr7zdOlpXpkCWixGhsKq",
   "include_colab_link": true,
   "provenance": []
  },
  "kernelspec": {
   "display_name": "Python 3",
   "language": "python",
   "name": "python3"
  },
  "language_info": {
   "codemirror_mode": {
    "name": "ipython",
    "version": 3
   },
   "file_extension": ".py",
   "mimetype": "text/x-python",
   "name": "python",
   "nbconvert_exporter": "python",
   "pygments_lexer": "ipython3",
   "version": "3.9.16"
  }
 },
 "nbformat": 4,
 "nbformat_minor": 1
}
